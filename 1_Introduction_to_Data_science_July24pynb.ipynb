{
  "nbformat": 4,
  "nbformat_minor": 0,
  "metadata": {
    "colab": {
      "provenance": [],
      "authorship_tag": "ABX9TyNG6MBz4O/D9/gAL4VXEmSp",
      "include_colab_link": true
    },
    "kernelspec": {
      "name": "python3",
      "display_name": "Python 3"
    },
    "language_info": {
      "name": "python"
    }
  },
  "cells": [
    {
      "cell_type": "markdown",
      "metadata": {
        "id": "view-in-github",
        "colab_type": "text"
      },
      "source": [
        "<a href=\"https://colab.research.google.com/github/HikmahAlBaity/Data_Science/blob/main/1_Introduction_to_Data_science_July24pynb.ipynb\" target=\"_parent\"><img src=\"https://colab.research.google.com/assets/colab-badge.svg\" alt=\"Open In Colab\"/></a>"
      ]
    },
    {
      "cell_type": "markdown",
      "source": [
        "# **Introduction to Data Science**\n"
      ],
      "metadata": {
        "id": "lM8TVrXUtUe5"
      }
    },
    {
      "cell_type": "markdown",
      "source": [
        "### **Table of Contents:**\n",
        "\n",
        "\n",
        "**Part 1: Pandas library**\n",
        "\n",
        "1.1 How to import pandas library\n",
        "\n",
        "1.2 How to read *.csv * file\n",
        "\n",
        "1.3 How to read first 5 rows\n",
        "\n",
        "1.4 How to first 10 rows\n",
        "\n",
        "1.5 How to read last 10 rows\n",
        "\n",
        "1.6 Discovering how many rows and columns\n",
        "\n",
        "\n",
        "**Part 2: Data Types**\n",
        "\n",
        " 2.1: Python Data Types\n",
        "\n",
        " 2.2: Boolean Data Types\n",
        "\n",
        "\n",
        "**Part 3: Expressions, Variables, Conditions**\n",
        "\n",
        "3.1: Expressions\n",
        "\n",
        "3.2: Variables\n",
        "\n",
        "3.3: Conditions\n",
        "\n",
        "\n",
        "\n"
      ],
      "metadata": {
        "id": "h1KakU69t4kR"
      }
    },
    {
      "cell_type": "markdown",
      "source": [
        "**1.1 Import Pandas library**"
      ],
      "metadata": {
        "id": "tChTklLkv6V3"
      }
    },
    {
      "cell_type": "code",
      "source": [
        "import pandas as pd"
      ],
      "metadata": {
        "id": "79l86_pjwGIQ"
      },
      "execution_count": 12,
      "outputs": []
    },
    {
      "cell_type": "markdown",
      "source": [
        "**1.2 Read.csv file**"
      ],
      "metadata": {
        "id": "i-Hsts8TwVoc"
      }
    },
    {
      "cell_type": "code",
      "source": [
        "df= pd.read_csv(\"/content/NFLX.csv\")"
      ],
      "metadata": {
        "id": "K3zKEFVzwI64"
      },
      "execution_count": 13,
      "outputs": []
    },
    {
      "cell_type": "markdown",
      "source": [
        "**1.3 Read 5 row data from data set**"
      ],
      "metadata": {
        "id": "Ta7yavXvxhMY"
      }
    },
    {
      "cell_type": "code",
      "source": [
        "df.head(), # 5 first row."
      ],
      "metadata": {
        "colab": {
          "base_uri": "https://localhost:8080/"
        },
        "id": "H3nLKF5nxcjl",
        "outputId": "35ed625a-f5cd-418f-b96e-df071ae8bfdc"
      },
      "execution_count": 14,
      "outputs": [
        {
          "output_type": "execute_result",
          "data": {
            "text/plain": [
              "(         Date        Open        High         Low       Close   Adj Close  \\\n",
              " 0  2015-12-16  119.800003  123.000000  118.089996  122.639999  122.639999   \n",
              " 1  2015-12-17  123.970001  126.349998  122.419998  122.510002  122.510002   \n",
              " 2  2015-12-18  120.849998  122.190002  117.919998  118.019997  118.019997   \n",
              " 3  2015-12-21  119.510002  119.589996  115.660004  116.629997  116.629997   \n",
              " 4  2015-12-22  117.300003  117.430000  114.860001  116.239998  116.239998   \n",
              " \n",
              "      Volume  \n",
              " 0  13181000  \n",
              " 1  17284900  \n",
              " 2  17948100  \n",
              " 3  11670000  \n",
              " 4   9689000  ,)"
            ]
          },
          "metadata": {},
          "execution_count": 14
        }
      ]
    },
    {
      "cell_type": "markdown",
      "source": [
        "**1.4 Read first 10 row data from data set**"
      ],
      "metadata": {
        "id": "1cVNC21Qy9BI"
      }
    },
    {
      "cell_type": "code",
      "source": [
        "df.head(10)"
      ],
      "metadata": {
        "colab": {
          "base_uri": "https://localhost:8080/",
          "height": 574
        },
        "id": "nO2CXSKyzBPH",
        "outputId": "6e643a4a-dbef-425a-f2c5-a69abb0e25d3"
      },
      "execution_count": 15,
      "outputs": [
        {
          "output_type": "execute_result",
          "data": {
            "text/plain": [
              "         Date        Open        High         Low       Close   Adj Close  \\\n",
              "0  2015-12-16  119.800003  123.000000  118.089996  122.639999  122.639999   \n",
              "1  2015-12-17  123.970001  126.349998  122.419998  122.510002  122.510002   \n",
              "2  2015-12-18  120.849998  122.190002  117.919998  118.019997  118.019997   \n",
              "3  2015-12-21  119.510002  119.589996  115.660004  116.629997  116.629997   \n",
              "4  2015-12-22  117.300003  117.430000  114.860001  116.239998  116.239998   \n",
              "5  2015-12-23  116.910004  118.559998  115.779999  118.160004  118.160004   \n",
              "6  2015-12-24  118.220001  118.800003  117.300003  117.330002  117.330002   \n",
              "7  2015-12-28  117.260002  117.349998  113.849998  117.110001  117.110001   \n",
              "8  2015-12-29  118.190002  119.599998  116.919998  119.120003  119.120003   \n",
              "9  2015-12-30  118.949997  119.019997  116.430000  116.709999  116.709999   \n",
              "\n",
              "     Volume  \n",
              "0  13181000  \n",
              "1  17284900  \n",
              "2  17948100  \n",
              "3  11670000  \n",
              "4   9689000  \n",
              "5   9324300  \n",
              "6   3531300  \n",
              "7   8424300  \n",
              "8   8159200  \n",
              "9   8149700  "
            ],
            "text/html": [
              "\n",
              "  <div id=\"df-a909de0c-a5be-45d2-84f9-1376048cc06d\" class=\"colab-df-container\">\n",
              "    <div>\n",
              "<style scoped>\n",
              "    .dataframe tbody tr th:only-of-type {\n",
              "        vertical-align: middle;\n",
              "    }\n",
              "\n",
              "    .dataframe tbody tr th {\n",
              "        vertical-align: top;\n",
              "    }\n",
              "\n",
              "    .dataframe thead th {\n",
              "        text-align: right;\n",
              "    }\n",
              "</style>\n",
              "<table border=\"1\" class=\"dataframe\">\n",
              "  <thead>\n",
              "    <tr style=\"text-align: right;\">\n",
              "      <th></th>\n",
              "      <th>Date</th>\n",
              "      <th>Open</th>\n",
              "      <th>High</th>\n",
              "      <th>Low</th>\n",
              "      <th>Close</th>\n",
              "      <th>Adj Close</th>\n",
              "      <th>Volume</th>\n",
              "    </tr>\n",
              "  </thead>\n",
              "  <tbody>\n",
              "    <tr>\n",
              "      <th>0</th>\n",
              "      <td>2015-12-16</td>\n",
              "      <td>119.800003</td>\n",
              "      <td>123.000000</td>\n",
              "      <td>118.089996</td>\n",
              "      <td>122.639999</td>\n",
              "      <td>122.639999</td>\n",
              "      <td>13181000</td>\n",
              "    </tr>\n",
              "    <tr>\n",
              "      <th>1</th>\n",
              "      <td>2015-12-17</td>\n",
              "      <td>123.970001</td>\n",
              "      <td>126.349998</td>\n",
              "      <td>122.419998</td>\n",
              "      <td>122.510002</td>\n",
              "      <td>122.510002</td>\n",
              "      <td>17284900</td>\n",
              "    </tr>\n",
              "    <tr>\n",
              "      <th>2</th>\n",
              "      <td>2015-12-18</td>\n",
              "      <td>120.849998</td>\n",
              "      <td>122.190002</td>\n",
              "      <td>117.919998</td>\n",
              "      <td>118.019997</td>\n",
              "      <td>118.019997</td>\n",
              "      <td>17948100</td>\n",
              "    </tr>\n",
              "    <tr>\n",
              "      <th>3</th>\n",
              "      <td>2015-12-21</td>\n",
              "      <td>119.510002</td>\n",
              "      <td>119.589996</td>\n",
              "      <td>115.660004</td>\n",
              "      <td>116.629997</td>\n",
              "      <td>116.629997</td>\n",
              "      <td>11670000</td>\n",
              "    </tr>\n",
              "    <tr>\n",
              "      <th>4</th>\n",
              "      <td>2015-12-22</td>\n",
              "      <td>117.300003</td>\n",
              "      <td>117.430000</td>\n",
              "      <td>114.860001</td>\n",
              "      <td>116.239998</td>\n",
              "      <td>116.239998</td>\n",
              "      <td>9689000</td>\n",
              "    </tr>\n",
              "    <tr>\n",
              "      <th>5</th>\n",
              "      <td>2015-12-23</td>\n",
              "      <td>116.910004</td>\n",
              "      <td>118.559998</td>\n",
              "      <td>115.779999</td>\n",
              "      <td>118.160004</td>\n",
              "      <td>118.160004</td>\n",
              "      <td>9324300</td>\n",
              "    </tr>\n",
              "    <tr>\n",
              "      <th>6</th>\n",
              "      <td>2015-12-24</td>\n",
              "      <td>118.220001</td>\n",
              "      <td>118.800003</td>\n",
              "      <td>117.300003</td>\n",
              "      <td>117.330002</td>\n",
              "      <td>117.330002</td>\n",
              "      <td>3531300</td>\n",
              "    </tr>\n",
              "    <tr>\n",
              "      <th>7</th>\n",
              "      <td>2015-12-28</td>\n",
              "      <td>117.260002</td>\n",
              "      <td>117.349998</td>\n",
              "      <td>113.849998</td>\n",
              "      <td>117.110001</td>\n",
              "      <td>117.110001</td>\n",
              "      <td>8424300</td>\n",
              "    </tr>\n",
              "    <tr>\n",
              "      <th>8</th>\n",
              "      <td>2015-12-29</td>\n",
              "      <td>118.190002</td>\n",
              "      <td>119.599998</td>\n",
              "      <td>116.919998</td>\n",
              "      <td>119.120003</td>\n",
              "      <td>119.120003</td>\n",
              "      <td>8159200</td>\n",
              "    </tr>\n",
              "    <tr>\n",
              "      <th>9</th>\n",
              "      <td>2015-12-30</td>\n",
              "      <td>118.949997</td>\n",
              "      <td>119.019997</td>\n",
              "      <td>116.430000</td>\n",
              "      <td>116.709999</td>\n",
              "      <td>116.709999</td>\n",
              "      <td>8149700</td>\n",
              "    </tr>\n",
              "  </tbody>\n",
              "</table>\n",
              "</div>\n",
              "    <div class=\"colab-df-buttons\">\n",
              "\n",
              "  <div class=\"colab-df-container\">\n",
              "    <button class=\"colab-df-convert\" onclick=\"convertToInteractive('df-a909de0c-a5be-45d2-84f9-1376048cc06d')\"\n",
              "            title=\"Convert this dataframe to an interactive table.\"\n",
              "            style=\"display:none;\">\n",
              "\n",
              "  <svg xmlns=\"http://www.w3.org/2000/svg\" height=\"24px\" viewBox=\"0 -960 960 960\">\n",
              "    <path d=\"M120-120v-720h720v720H120Zm60-500h600v-160H180v160Zm220 220h160v-160H400v160Zm0 220h160v-160H400v160ZM180-400h160v-160H180v160Zm440 0h160v-160H620v160ZM180-180h160v-160H180v160Zm440 0h160v-160H620v160Z\"/>\n",
              "  </svg>\n",
              "    </button>\n",
              "\n",
              "  <style>\n",
              "    .colab-df-container {\n",
              "      display:flex;\n",
              "      gap: 12px;\n",
              "    }\n",
              "\n",
              "    .colab-df-convert {\n",
              "      background-color: #E8F0FE;\n",
              "      border: none;\n",
              "      border-radius: 50%;\n",
              "      cursor: pointer;\n",
              "      display: none;\n",
              "      fill: #1967D2;\n",
              "      height: 32px;\n",
              "      padding: 0 0 0 0;\n",
              "      width: 32px;\n",
              "    }\n",
              "\n",
              "    .colab-df-convert:hover {\n",
              "      background-color: #E2EBFA;\n",
              "      box-shadow: 0px 1px 2px rgba(60, 64, 67, 0.3), 0px 1px 3px 1px rgba(60, 64, 67, 0.15);\n",
              "      fill: #174EA6;\n",
              "    }\n",
              "\n",
              "    .colab-df-buttons div {\n",
              "      margin-bottom: 4px;\n",
              "    }\n",
              "\n",
              "    [theme=dark] .colab-df-convert {\n",
              "      background-color: #3B4455;\n",
              "      fill: #D2E3FC;\n",
              "    }\n",
              "\n",
              "    [theme=dark] .colab-df-convert:hover {\n",
              "      background-color: #434B5C;\n",
              "      box-shadow: 0px 1px 3px 1px rgba(0, 0, 0, 0.15);\n",
              "      filter: drop-shadow(0px 1px 2px rgba(0, 0, 0, 0.3));\n",
              "      fill: #FFFFFF;\n",
              "    }\n",
              "  </style>\n",
              "\n",
              "    <script>\n",
              "      const buttonEl =\n",
              "        document.querySelector('#df-a909de0c-a5be-45d2-84f9-1376048cc06d button.colab-df-convert');\n",
              "      buttonEl.style.display =\n",
              "        google.colab.kernel.accessAllowed ? 'block' : 'none';\n",
              "\n",
              "      async function convertToInteractive(key) {\n",
              "        const element = document.querySelector('#df-a909de0c-a5be-45d2-84f9-1376048cc06d');\n",
              "        const dataTable =\n",
              "          await google.colab.kernel.invokeFunction('convertToInteractive',\n",
              "                                                    [key], {});\n",
              "        if (!dataTable) return;\n",
              "\n",
              "        const docLinkHtml = 'Like what you see? Visit the ' +\n",
              "          '<a target=\"_blank\" href=https://colab.research.google.com/notebooks/data_table.ipynb>data table notebook</a>'\n",
              "          + ' to learn more about interactive tables.';\n",
              "        element.innerHTML = '';\n",
              "        dataTable['output_type'] = 'display_data';\n",
              "        await google.colab.output.renderOutput(dataTable, element);\n",
              "        const docLink = document.createElement('div');\n",
              "        docLink.innerHTML = docLinkHtml;\n",
              "        element.appendChild(docLink);\n",
              "      }\n",
              "    </script>\n",
              "  </div>\n",
              "\n",
              "\n",
              "<div id=\"df-259130fd-591e-4c87-b0a0-72256c5d52f6\">\n",
              "  <button class=\"colab-df-quickchart\" onclick=\"quickchart('df-259130fd-591e-4c87-b0a0-72256c5d52f6')\"\n",
              "            title=\"Suggest charts\"\n",
              "            style=\"display:none;\">\n",
              "\n",
              "<svg xmlns=\"http://www.w3.org/2000/svg\" height=\"24px\"viewBox=\"0 0 24 24\"\n",
              "     width=\"24px\">\n",
              "    <g>\n",
              "        <path d=\"M19 3H5c-1.1 0-2 .9-2 2v14c0 1.1.9 2 2 2h14c1.1 0 2-.9 2-2V5c0-1.1-.9-2-2-2zM9 17H7v-7h2v7zm4 0h-2V7h2v10zm4 0h-2v-4h2v4z\"/>\n",
              "    </g>\n",
              "</svg>\n",
              "  </button>\n",
              "\n",
              "<style>\n",
              "  .colab-df-quickchart {\n",
              "      --bg-color: #E8F0FE;\n",
              "      --fill-color: #1967D2;\n",
              "      --hover-bg-color: #E2EBFA;\n",
              "      --hover-fill-color: #174EA6;\n",
              "      --disabled-fill-color: #AAA;\n",
              "      --disabled-bg-color: #DDD;\n",
              "  }\n",
              "\n",
              "  [theme=dark] .colab-df-quickchart {\n",
              "      --bg-color: #3B4455;\n",
              "      --fill-color: #D2E3FC;\n",
              "      --hover-bg-color: #434B5C;\n",
              "      --hover-fill-color: #FFFFFF;\n",
              "      --disabled-bg-color: #3B4455;\n",
              "      --disabled-fill-color: #666;\n",
              "  }\n",
              "\n",
              "  .colab-df-quickchart {\n",
              "    background-color: var(--bg-color);\n",
              "    border: none;\n",
              "    border-radius: 50%;\n",
              "    cursor: pointer;\n",
              "    display: none;\n",
              "    fill: var(--fill-color);\n",
              "    height: 32px;\n",
              "    padding: 0;\n",
              "    width: 32px;\n",
              "  }\n",
              "\n",
              "  .colab-df-quickchart:hover {\n",
              "    background-color: var(--hover-bg-color);\n",
              "    box-shadow: 0 1px 2px rgba(60, 64, 67, 0.3), 0 1px 3px 1px rgba(60, 64, 67, 0.15);\n",
              "    fill: var(--button-hover-fill-color);\n",
              "  }\n",
              "\n",
              "  .colab-df-quickchart-complete:disabled,\n",
              "  .colab-df-quickchart-complete:disabled:hover {\n",
              "    background-color: var(--disabled-bg-color);\n",
              "    fill: var(--disabled-fill-color);\n",
              "    box-shadow: none;\n",
              "  }\n",
              "\n",
              "  .colab-df-spinner {\n",
              "    border: 2px solid var(--fill-color);\n",
              "    border-color: transparent;\n",
              "    border-bottom-color: var(--fill-color);\n",
              "    animation:\n",
              "      spin 1s steps(1) infinite;\n",
              "  }\n",
              "\n",
              "  @keyframes spin {\n",
              "    0% {\n",
              "      border-color: transparent;\n",
              "      border-bottom-color: var(--fill-color);\n",
              "      border-left-color: var(--fill-color);\n",
              "    }\n",
              "    20% {\n",
              "      border-color: transparent;\n",
              "      border-left-color: var(--fill-color);\n",
              "      border-top-color: var(--fill-color);\n",
              "    }\n",
              "    30% {\n",
              "      border-color: transparent;\n",
              "      border-left-color: var(--fill-color);\n",
              "      border-top-color: var(--fill-color);\n",
              "      border-right-color: var(--fill-color);\n",
              "    }\n",
              "    40% {\n",
              "      border-color: transparent;\n",
              "      border-right-color: var(--fill-color);\n",
              "      border-top-color: var(--fill-color);\n",
              "    }\n",
              "    60% {\n",
              "      border-color: transparent;\n",
              "      border-right-color: var(--fill-color);\n",
              "    }\n",
              "    80% {\n",
              "      border-color: transparent;\n",
              "      border-right-color: var(--fill-color);\n",
              "      border-bottom-color: var(--fill-color);\n",
              "    }\n",
              "    90% {\n",
              "      border-color: transparent;\n",
              "      border-bottom-color: var(--fill-color);\n",
              "    }\n",
              "  }\n",
              "</style>\n",
              "\n",
              "  <script>\n",
              "    async function quickchart(key) {\n",
              "      const quickchartButtonEl =\n",
              "        document.querySelector('#' + key + ' button');\n",
              "      quickchartButtonEl.disabled = true;  // To prevent multiple clicks.\n",
              "      quickchartButtonEl.classList.add('colab-df-spinner');\n",
              "      try {\n",
              "        const charts = await google.colab.kernel.invokeFunction(\n",
              "            'suggestCharts', [key], {});\n",
              "      } catch (error) {\n",
              "        console.error('Error during call to suggestCharts:', error);\n",
              "      }\n",
              "      quickchartButtonEl.classList.remove('colab-df-spinner');\n",
              "      quickchartButtonEl.classList.add('colab-df-quickchart-complete');\n",
              "    }\n",
              "    (() => {\n",
              "      let quickchartButtonEl =\n",
              "        document.querySelector('#df-259130fd-591e-4c87-b0a0-72256c5d52f6 button');\n",
              "      quickchartButtonEl.style.display =\n",
              "        google.colab.kernel.accessAllowed ? 'block' : 'none';\n",
              "    })();\n",
              "  </script>\n",
              "</div>\n",
              "\n",
              "    </div>\n",
              "  </div>\n"
            ],
            "application/vnd.google.colaboratory.intrinsic+json": {
              "type": "dataframe",
              "variable_name": "df",
              "summary": "{\n  \"name\": \"df\",\n  \"rows\": 1007,\n  \"fields\": [\n    {\n      \"column\": \"Date\",\n      \"properties\": {\n        \"dtype\": \"object\",\n        \"num_unique_values\": 1007,\n        \"samples\": [\n          \"2019-08-23\",\n          \"2018-06-19\",\n          \"2018-08-31\"\n        ],\n        \"semantic_type\": \"\",\n        \"description\": \"\"\n      }\n    },\n    {\n      \"column\": \"Open\",\n      \"properties\": {\n        \"dtype\": \"number\",\n        \"std\": 103.30542247368683,\n        \"min\": 80.57,\n        \"max\": 421.380005,\n        \"num_unique_values\": 965,\n        \"samples\": [\n          295.23999,\n          196.649994,\n          97.330002\n        ],\n        \"semantic_type\": \"\",\n        \"description\": \"\"\n      }\n    },\n    {\n      \"column\": \"High\",\n      \"properties\": {\n        \"dtype\": \"number\",\n        \"std\": 104.85134917606163,\n        \"min\": 84.699997,\n        \"max\": 423.209991,\n        \"num_unique_values\": 973,\n        \"samples\": [\n          122.449997,\n          331.440002,\n          100.190002\n        ],\n        \"semantic_type\": \"\",\n        \"description\": \"\"\n      }\n    },\n    {\n      \"column\": \"Low\",\n      \"properties\": {\n        \"dtype\": \"number\",\n        \"std\": 101.45861102484213,\n        \"min\": 79.949997,\n        \"max\": 413.079987,\n        \"num_unique_values\": 975,\n        \"samples\": [\n          121.059998,\n          358.890015,\n          95.709999\n        ],\n        \"semantic_type\": \"\",\n        \"description\": \"\"\n      }\n    },\n    {\n      \"column\": \"Close\",\n      \"properties\": {\n        \"dtype\": \"number\",\n        \"std\": 103.20378485652908,\n        \"min\": 82.790001,\n        \"max\": 418.970001,\n        \"num_unique_values\": 979,\n        \"samples\": [\n          99.5,\n          321.160004,\n          97.379997\n        ],\n        \"semantic_type\": \"\",\n        \"description\": \"\"\n      }\n    },\n    {\n      \"column\": \"Adj Close\",\n      \"properties\": {\n        \"dtype\": \"number\",\n        \"std\": 103.20378485652908,\n        \"min\": 82.790001,\n        \"max\": 418.970001,\n        \"num_unique_values\": 979,\n        \"samples\": [\n          99.5,\n          321.160004,\n          97.379997\n        ],\n        \"semantic_type\": \"\",\n        \"description\": \"\"\n      }\n    },\n    {\n      \"column\": \"Volume\",\n      \"properties\": {\n        \"dtype\": \"number\",\n        \"std\": 6398966,\n        \"min\": 1616300,\n        \"max\": 58410400,\n        \"num_unique_values\": 1004,\n        \"samples\": [\n          6309400,\n          16494600,\n          7605200\n        ],\n        \"semantic_type\": \"\",\n        \"description\": \"\"\n      }\n    }\n  ]\n}"
            }
          },
          "metadata": {},
          "execution_count": 15
        }
      ]
    },
    {
      "cell_type": "markdown",
      "source": [
        "**1.5 Read last 10 row data from data set**"
      ],
      "metadata": {
        "id": "d7NZdy36zHuB"
      }
    },
    {
      "cell_type": "code",
      "source": [
        "df.tail(10)"
      ],
      "metadata": {
        "colab": {
          "base_uri": "https://localhost:8080/",
          "height": 574
        },
        "id": "dlOAQF4fzEZJ",
        "outputId": "c2a60729-b644-4b8b-fa9c-d8c7b37b8bed"
      },
      "execution_count": 16,
      "outputs": [
        {
          "output_type": "execute_result",
          "data": {
            "text/plain": [
              "            Date        Open        High         Low       Close   Adj Close  \\\n",
              "997   2019-12-03  302.220001  307.359985  301.880005  306.160004  306.160004   \n",
              "998   2019-12-04  308.429993  308.429993  303.269989  304.320007  304.320007   \n",
              "999   2019-12-05  305.269989  306.480011  298.809998  302.859985  302.859985   \n",
              "1000  2019-12-06  304.700012  307.850006  302.600006  307.350006  307.350006   \n",
              "1001  2019-12-09  307.350006  311.489990  302.440002  302.500000  302.500000   \n",
              "1002  2019-12-10  296.119995  298.940002  292.019989  293.119995  293.119995   \n",
              "1003  2019-12-11  294.489990  299.429993  294.200012  298.929993  298.929993   \n",
              "1004  2019-12-12  295.670013  299.170013  295.059998  298.440002  298.440002   \n",
              "1005  2019-12-13  298.500000  301.799988  297.250000  298.500000  298.500000   \n",
              "1006  2019-12-16  300.850006  305.709991  298.630005  304.209991  304.209991   \n",
              "\n",
              "        Volume  \n",
              "997    4992800  \n",
              "998    3512100  \n",
              "999    4615500  \n",
              "1000   4457800  \n",
              "1001   5748400  \n",
              "1002  10476100  \n",
              "1003   5589800  \n",
              "1004   4766600  \n",
              "1005   3879700  \n",
              "1006   4658900  "
            ],
            "text/html": [
              "\n",
              "  <div id=\"df-1a9b01c9-aab0-40ed-bdff-08e727c47247\" class=\"colab-df-container\">\n",
              "    <div>\n",
              "<style scoped>\n",
              "    .dataframe tbody tr th:only-of-type {\n",
              "        vertical-align: middle;\n",
              "    }\n",
              "\n",
              "    .dataframe tbody tr th {\n",
              "        vertical-align: top;\n",
              "    }\n",
              "\n",
              "    .dataframe thead th {\n",
              "        text-align: right;\n",
              "    }\n",
              "</style>\n",
              "<table border=\"1\" class=\"dataframe\">\n",
              "  <thead>\n",
              "    <tr style=\"text-align: right;\">\n",
              "      <th></th>\n",
              "      <th>Date</th>\n",
              "      <th>Open</th>\n",
              "      <th>High</th>\n",
              "      <th>Low</th>\n",
              "      <th>Close</th>\n",
              "      <th>Adj Close</th>\n",
              "      <th>Volume</th>\n",
              "    </tr>\n",
              "  </thead>\n",
              "  <tbody>\n",
              "    <tr>\n",
              "      <th>997</th>\n",
              "      <td>2019-12-03</td>\n",
              "      <td>302.220001</td>\n",
              "      <td>307.359985</td>\n",
              "      <td>301.880005</td>\n",
              "      <td>306.160004</td>\n",
              "      <td>306.160004</td>\n",
              "      <td>4992800</td>\n",
              "    </tr>\n",
              "    <tr>\n",
              "      <th>998</th>\n",
              "      <td>2019-12-04</td>\n",
              "      <td>308.429993</td>\n",
              "      <td>308.429993</td>\n",
              "      <td>303.269989</td>\n",
              "      <td>304.320007</td>\n",
              "      <td>304.320007</td>\n",
              "      <td>3512100</td>\n",
              "    </tr>\n",
              "    <tr>\n",
              "      <th>999</th>\n",
              "      <td>2019-12-05</td>\n",
              "      <td>305.269989</td>\n",
              "      <td>306.480011</td>\n",
              "      <td>298.809998</td>\n",
              "      <td>302.859985</td>\n",
              "      <td>302.859985</td>\n",
              "      <td>4615500</td>\n",
              "    </tr>\n",
              "    <tr>\n",
              "      <th>1000</th>\n",
              "      <td>2019-12-06</td>\n",
              "      <td>304.700012</td>\n",
              "      <td>307.850006</td>\n",
              "      <td>302.600006</td>\n",
              "      <td>307.350006</td>\n",
              "      <td>307.350006</td>\n",
              "      <td>4457800</td>\n",
              "    </tr>\n",
              "    <tr>\n",
              "      <th>1001</th>\n",
              "      <td>2019-12-09</td>\n",
              "      <td>307.350006</td>\n",
              "      <td>311.489990</td>\n",
              "      <td>302.440002</td>\n",
              "      <td>302.500000</td>\n",
              "      <td>302.500000</td>\n",
              "      <td>5748400</td>\n",
              "    </tr>\n",
              "    <tr>\n",
              "      <th>1002</th>\n",
              "      <td>2019-12-10</td>\n",
              "      <td>296.119995</td>\n",
              "      <td>298.940002</td>\n",
              "      <td>292.019989</td>\n",
              "      <td>293.119995</td>\n",
              "      <td>293.119995</td>\n",
              "      <td>10476100</td>\n",
              "    </tr>\n",
              "    <tr>\n",
              "      <th>1003</th>\n",
              "      <td>2019-12-11</td>\n",
              "      <td>294.489990</td>\n",
              "      <td>299.429993</td>\n",
              "      <td>294.200012</td>\n",
              "      <td>298.929993</td>\n",
              "      <td>298.929993</td>\n",
              "      <td>5589800</td>\n",
              "    </tr>\n",
              "    <tr>\n",
              "      <th>1004</th>\n",
              "      <td>2019-12-12</td>\n",
              "      <td>295.670013</td>\n",
              "      <td>299.170013</td>\n",
              "      <td>295.059998</td>\n",
              "      <td>298.440002</td>\n",
              "      <td>298.440002</td>\n",
              "      <td>4766600</td>\n",
              "    </tr>\n",
              "    <tr>\n",
              "      <th>1005</th>\n",
              "      <td>2019-12-13</td>\n",
              "      <td>298.500000</td>\n",
              "      <td>301.799988</td>\n",
              "      <td>297.250000</td>\n",
              "      <td>298.500000</td>\n",
              "      <td>298.500000</td>\n",
              "      <td>3879700</td>\n",
              "    </tr>\n",
              "    <tr>\n",
              "      <th>1006</th>\n",
              "      <td>2019-12-16</td>\n",
              "      <td>300.850006</td>\n",
              "      <td>305.709991</td>\n",
              "      <td>298.630005</td>\n",
              "      <td>304.209991</td>\n",
              "      <td>304.209991</td>\n",
              "      <td>4658900</td>\n",
              "    </tr>\n",
              "  </tbody>\n",
              "</table>\n",
              "</div>\n",
              "    <div class=\"colab-df-buttons\">\n",
              "\n",
              "  <div class=\"colab-df-container\">\n",
              "    <button class=\"colab-df-convert\" onclick=\"convertToInteractive('df-1a9b01c9-aab0-40ed-bdff-08e727c47247')\"\n",
              "            title=\"Convert this dataframe to an interactive table.\"\n",
              "            style=\"display:none;\">\n",
              "\n",
              "  <svg xmlns=\"http://www.w3.org/2000/svg\" height=\"24px\" viewBox=\"0 -960 960 960\">\n",
              "    <path d=\"M120-120v-720h720v720H120Zm60-500h600v-160H180v160Zm220 220h160v-160H400v160Zm0 220h160v-160H400v160ZM180-400h160v-160H180v160Zm440 0h160v-160H620v160ZM180-180h160v-160H180v160Zm440 0h160v-160H620v160Z\"/>\n",
              "  </svg>\n",
              "    </button>\n",
              "\n",
              "  <style>\n",
              "    .colab-df-container {\n",
              "      display:flex;\n",
              "      gap: 12px;\n",
              "    }\n",
              "\n",
              "    .colab-df-convert {\n",
              "      background-color: #E8F0FE;\n",
              "      border: none;\n",
              "      border-radius: 50%;\n",
              "      cursor: pointer;\n",
              "      display: none;\n",
              "      fill: #1967D2;\n",
              "      height: 32px;\n",
              "      padding: 0 0 0 0;\n",
              "      width: 32px;\n",
              "    }\n",
              "\n",
              "    .colab-df-convert:hover {\n",
              "      background-color: #E2EBFA;\n",
              "      box-shadow: 0px 1px 2px rgba(60, 64, 67, 0.3), 0px 1px 3px 1px rgba(60, 64, 67, 0.15);\n",
              "      fill: #174EA6;\n",
              "    }\n",
              "\n",
              "    .colab-df-buttons div {\n",
              "      margin-bottom: 4px;\n",
              "    }\n",
              "\n",
              "    [theme=dark] .colab-df-convert {\n",
              "      background-color: #3B4455;\n",
              "      fill: #D2E3FC;\n",
              "    }\n",
              "\n",
              "    [theme=dark] .colab-df-convert:hover {\n",
              "      background-color: #434B5C;\n",
              "      box-shadow: 0px 1px 3px 1px rgba(0, 0, 0, 0.15);\n",
              "      filter: drop-shadow(0px 1px 2px rgba(0, 0, 0, 0.3));\n",
              "      fill: #FFFFFF;\n",
              "    }\n",
              "  </style>\n",
              "\n",
              "    <script>\n",
              "      const buttonEl =\n",
              "        document.querySelector('#df-1a9b01c9-aab0-40ed-bdff-08e727c47247 button.colab-df-convert');\n",
              "      buttonEl.style.display =\n",
              "        google.colab.kernel.accessAllowed ? 'block' : 'none';\n",
              "\n",
              "      async function convertToInteractive(key) {\n",
              "        const element = document.querySelector('#df-1a9b01c9-aab0-40ed-bdff-08e727c47247');\n",
              "        const dataTable =\n",
              "          await google.colab.kernel.invokeFunction('convertToInteractive',\n",
              "                                                    [key], {});\n",
              "        if (!dataTable) return;\n",
              "\n",
              "        const docLinkHtml = 'Like what you see? Visit the ' +\n",
              "          '<a target=\"_blank\" href=https://colab.research.google.com/notebooks/data_table.ipynb>data table notebook</a>'\n",
              "          + ' to learn more about interactive tables.';\n",
              "        element.innerHTML = '';\n",
              "        dataTable['output_type'] = 'display_data';\n",
              "        await google.colab.output.renderOutput(dataTable, element);\n",
              "        const docLink = document.createElement('div');\n",
              "        docLink.innerHTML = docLinkHtml;\n",
              "        element.appendChild(docLink);\n",
              "      }\n",
              "    </script>\n",
              "  </div>\n",
              "\n",
              "\n",
              "<div id=\"df-819685b5-653d-40ff-becd-61219f1abd3d\">\n",
              "  <button class=\"colab-df-quickchart\" onclick=\"quickchart('df-819685b5-653d-40ff-becd-61219f1abd3d')\"\n",
              "            title=\"Suggest charts\"\n",
              "            style=\"display:none;\">\n",
              "\n",
              "<svg xmlns=\"http://www.w3.org/2000/svg\" height=\"24px\"viewBox=\"0 0 24 24\"\n",
              "     width=\"24px\">\n",
              "    <g>\n",
              "        <path d=\"M19 3H5c-1.1 0-2 .9-2 2v14c0 1.1.9 2 2 2h14c1.1 0 2-.9 2-2V5c0-1.1-.9-2-2-2zM9 17H7v-7h2v7zm4 0h-2V7h2v10zm4 0h-2v-4h2v4z\"/>\n",
              "    </g>\n",
              "</svg>\n",
              "  </button>\n",
              "\n",
              "<style>\n",
              "  .colab-df-quickchart {\n",
              "      --bg-color: #E8F0FE;\n",
              "      --fill-color: #1967D2;\n",
              "      --hover-bg-color: #E2EBFA;\n",
              "      --hover-fill-color: #174EA6;\n",
              "      --disabled-fill-color: #AAA;\n",
              "      --disabled-bg-color: #DDD;\n",
              "  }\n",
              "\n",
              "  [theme=dark] .colab-df-quickchart {\n",
              "      --bg-color: #3B4455;\n",
              "      --fill-color: #D2E3FC;\n",
              "      --hover-bg-color: #434B5C;\n",
              "      --hover-fill-color: #FFFFFF;\n",
              "      --disabled-bg-color: #3B4455;\n",
              "      --disabled-fill-color: #666;\n",
              "  }\n",
              "\n",
              "  .colab-df-quickchart {\n",
              "    background-color: var(--bg-color);\n",
              "    border: none;\n",
              "    border-radius: 50%;\n",
              "    cursor: pointer;\n",
              "    display: none;\n",
              "    fill: var(--fill-color);\n",
              "    height: 32px;\n",
              "    padding: 0;\n",
              "    width: 32px;\n",
              "  }\n",
              "\n",
              "  .colab-df-quickchart:hover {\n",
              "    background-color: var(--hover-bg-color);\n",
              "    box-shadow: 0 1px 2px rgba(60, 64, 67, 0.3), 0 1px 3px 1px rgba(60, 64, 67, 0.15);\n",
              "    fill: var(--button-hover-fill-color);\n",
              "  }\n",
              "\n",
              "  .colab-df-quickchart-complete:disabled,\n",
              "  .colab-df-quickchart-complete:disabled:hover {\n",
              "    background-color: var(--disabled-bg-color);\n",
              "    fill: var(--disabled-fill-color);\n",
              "    box-shadow: none;\n",
              "  }\n",
              "\n",
              "  .colab-df-spinner {\n",
              "    border: 2px solid var(--fill-color);\n",
              "    border-color: transparent;\n",
              "    border-bottom-color: var(--fill-color);\n",
              "    animation:\n",
              "      spin 1s steps(1) infinite;\n",
              "  }\n",
              "\n",
              "  @keyframes spin {\n",
              "    0% {\n",
              "      border-color: transparent;\n",
              "      border-bottom-color: var(--fill-color);\n",
              "      border-left-color: var(--fill-color);\n",
              "    }\n",
              "    20% {\n",
              "      border-color: transparent;\n",
              "      border-left-color: var(--fill-color);\n",
              "      border-top-color: var(--fill-color);\n",
              "    }\n",
              "    30% {\n",
              "      border-color: transparent;\n",
              "      border-left-color: var(--fill-color);\n",
              "      border-top-color: var(--fill-color);\n",
              "      border-right-color: var(--fill-color);\n",
              "    }\n",
              "    40% {\n",
              "      border-color: transparent;\n",
              "      border-right-color: var(--fill-color);\n",
              "      border-top-color: var(--fill-color);\n",
              "    }\n",
              "    60% {\n",
              "      border-color: transparent;\n",
              "      border-right-color: var(--fill-color);\n",
              "    }\n",
              "    80% {\n",
              "      border-color: transparent;\n",
              "      border-right-color: var(--fill-color);\n",
              "      border-bottom-color: var(--fill-color);\n",
              "    }\n",
              "    90% {\n",
              "      border-color: transparent;\n",
              "      border-bottom-color: var(--fill-color);\n",
              "    }\n",
              "  }\n",
              "</style>\n",
              "\n",
              "  <script>\n",
              "    async function quickchart(key) {\n",
              "      const quickchartButtonEl =\n",
              "        document.querySelector('#' + key + ' button');\n",
              "      quickchartButtonEl.disabled = true;  // To prevent multiple clicks.\n",
              "      quickchartButtonEl.classList.add('colab-df-spinner');\n",
              "      try {\n",
              "        const charts = await google.colab.kernel.invokeFunction(\n",
              "            'suggestCharts', [key], {});\n",
              "      } catch (error) {\n",
              "        console.error('Error during call to suggestCharts:', error);\n",
              "      }\n",
              "      quickchartButtonEl.classList.remove('colab-df-spinner');\n",
              "      quickchartButtonEl.classList.add('colab-df-quickchart-complete');\n",
              "    }\n",
              "    (() => {\n",
              "      let quickchartButtonEl =\n",
              "        document.querySelector('#df-819685b5-653d-40ff-becd-61219f1abd3d button');\n",
              "      quickchartButtonEl.style.display =\n",
              "        google.colab.kernel.accessAllowed ? 'block' : 'none';\n",
              "    })();\n",
              "  </script>\n",
              "</div>\n",
              "\n",
              "    </div>\n",
              "  </div>\n"
            ],
            "application/vnd.google.colaboratory.intrinsic+json": {
              "type": "dataframe",
              "repr_error": "0"
            }
          },
          "metadata": {},
          "execution_count": 16
        }
      ]
    },
    {
      "cell_type": "markdown",
      "source": [
        "**1.6 Discover how many columns and rows in data sets**"
      ],
      "metadata": {
        "id": "TJVW0gxMzZHy"
      }
    },
    {
      "cell_type": "code",
      "source": [
        "df.shape  # (rows, columns)"
      ],
      "metadata": {
        "colab": {
          "base_uri": "https://localhost:8080/"
        },
        "id": "1haJjN9_zTxg",
        "outputId": "f9ae7669-6ba8-4904-d0c5-11fcdce73c96"
      },
      "execution_count": 17,
      "outputs": [
        {
          "output_type": "execute_result",
          "data": {
            "text/plain": [
              "(1007, 7)"
            ]
          },
          "metadata": {},
          "execution_count": 17
        }
      ]
    },
    {
      "cell_type": "markdown",
      "source": [
        "**Part 2: Data Types**\n",
        "\n",
        " **2.1: Python Data Types**\n",
        "\n",
        "\n",
        "\n",
        "*   String: words or anything in single quotes (') or double quotes (\")\n",
        "\n",
        "*   Integer: Whole numbers without a decimal point.\n",
        "\n",
        "\n",
        "\n",
        "*   Float: Real numbers with a fractional component (decimal point)\n",
        "\n",
        "\n",
        "\n"
      ],
      "metadata": {
        "id": "V_mrHSKozvFg"
      }
    },
    {
      "cell_type": "code",
      "source": [
        "'Data Science'\n",
        "\n",
        "8.8\n",
        "\n",
        "2024"
      ],
      "metadata": {
        "colab": {
          "base_uri": "https://localhost:8080/"
        },
        "id": "9EK3oFXrzkAJ",
        "outputId": "eed7ce24-5a94-4ec5-85ad-1ddfcbab845f"
      },
      "execution_count": 18,
      "outputs": [
        {
          "output_type": "execute_result",
          "data": {
            "text/plain": [
              "2024"
            ]
          },
          "metadata": {},
          "execution_count": 18
        }
      ]
    },
    {
      "cell_type": "code",
      "source": [
        "type ('Data Science')"
      ],
      "metadata": {
        "colab": {
          "base_uri": "https://localhost:8080/"
        },
        "id": "_0ZH5Zwm0hqc",
        "outputId": "1f0d1087-86ae-4bcb-b3ba-b12629d23e5a"
      },
      "execution_count": 19,
      "outputs": [
        {
          "output_type": "execute_result",
          "data": {
            "text/plain": [
              "str"
            ]
          },
          "metadata": {},
          "execution_count": 19
        }
      ]
    },
    {
      "cell_type": "code",
      "source": [
        "type (8.8)"
      ],
      "metadata": {
        "colab": {
          "base_uri": "https://localhost:8080/"
        },
        "id": "nQ_AgYjc0kP9",
        "outputId": "595259cd-ca25-4e0e-d618-cfb62573ce62"
      },
      "execution_count": 20,
      "outputs": [
        {
          "output_type": "execute_result",
          "data": {
            "text/plain": [
              "float"
            ]
          },
          "metadata": {},
          "execution_count": 20
        }
      ]
    },
    {
      "cell_type": "code",
      "source": [
        "type (2024)"
      ],
      "metadata": {
        "colab": {
          "base_uri": "https://localhost:8080/"
        },
        "id": "Ys5HG5bb0m85",
        "outputId": "c9a0afeb-11a4-4c78-bce1-f3ba8bbb23d6"
      },
      "execution_count": 21,
      "outputs": [
        {
          "output_type": "execute_result",
          "data": {
            "text/plain": [
              "int"
            ]
          },
          "metadata": {},
          "execution_count": 21
        }
      ]
    },
    {
      "cell_type": "markdown",
      "source": [
        "int, float, complex"
      ],
      "metadata": {
        "id": "A-txNR2m1Mfi"
      }
    },
    {
      "cell_type": "code",
      "source": [
        "# complex\n",
        "b = 2\n",
        "A = 20+5*b\n",
        "# need to define b first, to complete the formula"
      ],
      "metadata": {
        "id": "-fZKoSeZ0qap"
      },
      "execution_count": 22,
      "outputs": []
    },
    {
      "cell_type": "markdown",
      "source": [
        "**2.2 Boolean data type**\n",
        "\n",
        "\n",
        "*  True\n",
        "*  False\n",
        "\n"
      ],
      "metadata": {
        "id": "zI0iQypc2CQX"
      }
    },
    {
      "cell_type": "code",
      "source": [
        "type (True)"
      ],
      "metadata": {
        "colab": {
          "base_uri": "https://localhost:8080/"
        },
        "id": "ZzOrSXsg2tK4",
        "outputId": "1ae8dbc6-6167-4a70-c72d-d4faf8e031b2"
      },
      "execution_count": 23,
      "outputs": [
        {
          "output_type": "execute_result",
          "data": {
            "text/plain": [
              "bool"
            ]
          },
          "metadata": {},
          "execution_count": 23
        }
      ]
    },
    {
      "cell_type": "code",
      "source": [
        "type (False)"
      ],
      "metadata": {
        "colab": {
          "base_uri": "https://localhost:8080/"
        },
        "id": "yl62-Z77msjI",
        "outputId": "3e3cf50f-0144-4ba5-d62a-188afd067067"
      },
      "execution_count": 24,
      "outputs": [
        {
          "output_type": "execute_result",
          "data": {
            "text/plain": [
              "bool"
            ]
          },
          "metadata": {},
          "execution_count": 24
        }
      ]
    },
    {
      "cell_type": "markdown",
      "source": [
        "**Part 3: Expressions, Variables, Conditions**\n",
        "\n",
        "define as: representing some value, operator in mathematical formulae.\n",
        "\n",
        "  \n",
        "*  subtraction: -\n",
        "\n",
        "\n",
        "*   addition: +\n",
        "*   division: /\n",
        "\n",
        "\n",
        "\n",
        "\n",
        "*  floor division //\n",
        "\n",
        "*   multiplication: *\n",
        "*   modulus: %\n",
        "\n",
        "*   exponent: **\n",
        "\n",
        "\n",
        "\n",
        "\n",
        "\n",
        "\n",
        "\n"
      ],
      "metadata": {
        "id": "4TV6smRJm91L"
      }
    },
    {
      "cell_type": "markdown",
      "source": [
        "**3.1 Expressions**"
      ],
      "metadata": {
        "id": "25NgagxV_tny"
      }
    },
    {
      "cell_type": "code",
      "source": [
        "X = 2\n",
        "y = 4\n",
        "z = y / X\n",
        "print (z)\n",
        "#"
      ],
      "metadata": {
        "colab": {
          "base_uri": "https://localhost:8080/"
        },
        "id": "yr_2EMDvmy_Q",
        "outputId": "6ddb2e34-a15e-47fe-bf9d-23ca91f82905"
      },
      "execution_count": 25,
      "outputs": [
        {
          "output_type": "stream",
          "name": "stdout",
          "text": [
            "2.0\n"
          ]
        }
      ]
    },
    {
      "cell_type": "code",
      "source": [
        "type (z)"
      ],
      "metadata": {
        "colab": {
          "base_uri": "https://localhost:8080/"
        },
        "id": "K3uJKwRgo7LC",
        "outputId": "dba03537-ce7c-471c-d222-6cbc59158ec3"
      },
      "execution_count": 26,
      "outputs": [
        {
          "output_type": "execute_result",
          "data": {
            "text/plain": [
              "float"
            ]
          },
          "metadata": {},
          "execution_count": 26
        }
      ]
    },
    {
      "cell_type": "code",
      "source": [
        "z = y // X\n",
        "z"
      ],
      "metadata": {
        "colab": {
          "base_uri": "https://localhost:8080/"
        },
        "id": "WtFiKr-ZpA9i",
        "outputId": "2c19a343-2e21-480b-a4dd-ffa7d9bb3d1c"
      },
      "execution_count": 27,
      "outputs": [
        {
          "output_type": "execute_result",
          "data": {
            "text/plain": [
              "2"
            ]
          },
          "metadata": {},
          "execution_count": 27
        }
      ]
    },
    {
      "cell_type": "code",
      "source": [
        "type (z)"
      ],
      "metadata": {
        "colab": {
          "base_uri": "https://localhost:8080/"
        },
        "id": "i9Xdd3ILpWgM",
        "outputId": "e2996850-83a1-40d2-d3e9-3d3d1b64702e"
      },
      "execution_count": 28,
      "outputs": [
        {
          "output_type": "execute_result",
          "data": {
            "text/plain": [
              "int"
            ]
          },
          "metadata": {},
          "execution_count": 28
        }
      ]
    },
    {
      "cell_type": "markdown",
      "source": [
        "Above show differences in data types using divison'/' and floor division'//' operator.\n",
        "\n",
        "\n",
        "*   / (Division): Always returns a float.\n",
        "\n",
        "*   // (Floor Division): Returns an integer if both operands are integers. If either operand is a float, the result is a float.\n",
        "\n",
        "\n",
        "\n",
        "\n"
      ],
      "metadata": {
        "id": "4gB6GHPHqb_n"
      }
    },
    {
      "cell_type": "markdown",
      "source": [
        "**The modulus operator (%)**\n",
        "\n",
        "\n",
        "The modulus operator (%) in Python is used to find the remainder of the division of one number by another.\n",
        "\n",
        " It is a part of arithmetic expressions and plays a significant role in various programming scenarios.\n",
        "\n",
        "\n",
        "*   Function: Computes the remainder of the division of two numbers.\n",
        "\n",
        "*   Syntax: a % b returns the remainder when a is divided by b.\n",
        "\n",
        "*   Use Cases: To determine if a number is even or odd.\n",
        "\n",
        "\n",
        "\n",
        "\n",
        "\n"
      ],
      "metadata": {
        "id": "RV-Pt7OS21mw"
      }
    },
    {
      "cell_type": "code",
      "source": [
        "b1 = 10%3\n",
        "b2 = 10%2\n",
        "b3 = 11%2\n",
        "b4 = 11%3\n",
        "\n",
        "print(b1)\n",
        "print(b2)\n",
        "print(b3)\n",
        "print(b4)\n",
        "\n"
      ],
      "metadata": {
        "colab": {
          "base_uri": "https://localhost:8080/"
        },
        "id": "it6Re645pbyF",
        "outputId": "16d38955-c3ef-419e-eee4-aee1983ccefb"
      },
      "execution_count": 29,
      "outputs": [
        {
          "output_type": "stream",
          "name": "stdout",
          "text": [
            "1\n",
            "0\n",
            "1\n",
            "2\n"
          ]
        }
      ]
    },
    {
      "cell_type": "markdown",
      "source": [
        "The modulus operator % returns the remainder of a division operation.\n",
        "\n",
        "\n",
        "Let's break down each calculation:\n",
        "\n",
        "\n",
        "\n",
        "1.   b1 = 10 % 3 Divide 10 by 3. The quotient is 3 (because 3 * 3 = 9, which is the largest multiple of 3 that is less than or equal to 10). The remainder is 10−9=1. Therefore, b1 = 1.\n",
        "\n",
        "\n",
        "2.   b2 = 10 % 2 Divide 10 by 2. The quotient is 5 (because 5 * 2 = 10). The remainder is 10−10=0. Therefore, b2 = 0.\n",
        "\n",
        "\n",
        "\n",
        "1.  b3 = 11 % 2 Divide 11 by 2. The quotient is 5 (because 5 * 2 = 10, which is the largest multiple of 2 that is less than or equal to 11). The remainder is 11−10=1. Therefore, b3 = 1.\n",
        "\n",
        "2.   b4 = 11 % 3 Divide 11 by 3. The quotient is 3 (because 3 * 3 = 9, which is the largest multiple of 3 that is less than or equal to 11). The remainder is 11−9=2. Therefore, b4 = 2.\n",
        "\n",
        "\n",
        "\n",
        "\n",
        "\n",
        "\n"
      ],
      "metadata": {
        "id": "rdvw_X9x3kV3"
      }
    },
    {
      "cell_type": "markdown",
      "source": [
        "**3.2 Variables **"
      ],
      "metadata": {
        "id": "k0MhIKyI_y38"
      }
    },
    {
      "cell_type": "markdown",
      "source": [
        "Definition:\n",
        "\n",
        "Naming: Variables have names that should be descriptive to indicate what kind of data they store. i.e a,b,c,x,y,z, orange, apple, data, df\n",
        "\n",
        "\n",
        "Assignment: The = operator is used to assign a value to a variable.\n",
        "\n",
        "\n",
        "Dynamic Typing: In Python, the type of a variable is determined by the value assigned to it, and it can change type over time.\n",
        "\n",
        "\n",
        "\" %whos \" command to check all your variables"
      ],
      "metadata": {
        "id": "YQYJHyrx_98j"
      }
    },
    {
      "cell_type": "code",
      "source": [
        "%whos"
      ],
      "metadata": {
        "colab": {
          "base_uri": "https://localhost:8080/"
        },
        "id": "qfVvCMGk3kJ3",
        "outputId": "d91a2bc5-52e4-49e7-e1a8-54f21ac3cdce"
      },
      "execution_count": 30,
      "outputs": [
        {
          "output_type": "stream",
          "name": "stdout",
          "text": [
            "Variable   Type         Data/Info\n",
            "---------------------------------\n",
            "A          int          30\n",
            "X          int          2\n",
            "b          int          2\n",
            "b1         int          1\n",
            "b2         int          0\n",
            "b3         int          1\n",
            "b4         int          2\n",
            "df         DataFrame                Date        O<...>\\n[1007 rows x 7 columns]\n",
            "pd         module       <module 'pandas' from '/u<...>ages/pandas/__init__.py'>\n",
            "y          int          4\n",
            "z          int          2\n"
          ]
        }
      ]
    },
    {
      "cell_type": "markdown",
      "source": [
        "Note: If you add more variables later in the coding process, the %whos command will automatically add the new variables and generate the variables in alphabetical order"
      ],
      "metadata": {
        "id": "x1Iql6t4A011"
      }
    },
    {
      "cell_type": "markdown",
      "source": [
        "**3.3 Condition**\n",
        "\n",
        "\n",
        "\n",
        "*   equal: ==\n",
        "\n",
        "\n",
        "\n",
        "\n",
        "\n",
        "\n",
        "*   not equal: !=\n",
        "\n",
        "\n",
        "*   greater than: >\n",
        "*   less than: <\n",
        "\n",
        "\n",
        "*   greater than or equal to: >=\n",
        "*   less than or equal to: <=\n",
        "\n",
        "\n",
        "\n",
        "\n",
        "\n"
      ],
      "metadata": {
        "id": "m_BcmzOJBBBi"
      }
    },
    {
      "cell_type": "markdown",
      "source": [
        "**Difference between one \" = \" sign and double \" == \" sign**\n",
        "\n",
        "\n",
        "In Python, = and == serve different purposes and are used in different contexts.\n",
        "\n",
        "Here’s a detailed explanation\n",
        "\n",
        "**Assignment Operator (=)**\n",
        "\n",
        "The single equals sign = is the assignment operator. It is used to assign a value to a variable. i.e: t = 5, t is a variable\n",
        "\n",
        "\n",
        "**Equality Operator (==)**\n",
        "\n",
        "The double equals sign == is the equality operator. It is used to compare two values and check if they are equal. The result of this comparison is a boolean value (True or False)"
      ],
      "metadata": {
        "id": "Af43SS-bBoZF"
      }
    },
    {
      "cell_type": "code",
      "source": [
        "year = 2024\n",
        "\n",
        "year == 2024\n",
        ""
      ],
      "metadata": {
        "colab": {
          "base_uri": "https://localhost:8080/"
        },
        "id": "3GV2DKhK3UcX",
        "outputId": "62446dca-f13b-413b-e75f-dc3536af7b8b"
      },
      "execution_count": 31,
      "outputs": [
        {
          "output_type": "execute_result",
          "data": {
            "text/plain": [
              "True"
            ]
          },
          "metadata": {},
          "execution_count": 31
        }
      ]
    },
    {
      "cell_type": "code",
      "source": [
        "year != 2025"
      ],
      "metadata": {
        "colab": {
          "base_uri": "https://localhost:8080/"
        },
        "id": "G1_VMcfkCLS-",
        "outputId": "3a569398-7b9a-4a8b-eff0-7d4b68bf25e6"
      },
      "execution_count": 32,
      "outputs": [
        {
          "output_type": "execute_result",
          "data": {
            "text/plain": [
              "True"
            ]
          },
          "metadata": {},
          "execution_count": 32
        }
      ]
    },
    {
      "cell_type": "code",
      "source": [
        "year == 2025"
      ],
      "metadata": {
        "colab": {
          "base_uri": "https://localhost:8080/"
        },
        "id": "fncL6tzdCUeV",
        "outputId": "1b42d298-1f21-45a3-f28b-519d4fa9f135"
      },
      "execution_count": 33,
      "outputs": [
        {
          "output_type": "execute_result",
          "data": {
            "text/plain": [
              "False"
            ]
          },
          "metadata": {},
          "execution_count": 33
        }
      ]
    },
    {
      "cell_type": "code",
      "source": [],
      "metadata": {
        "id": "1UQmxgBqCZ_T"
      },
      "execution_count": null,
      "outputs": []
    }
  ]
}